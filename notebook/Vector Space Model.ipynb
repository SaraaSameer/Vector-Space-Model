{
 "cells": [
  {
   "cell_type": "markdown",
   "id": "b9bc8faa",
   "metadata": {},
   "source": [
    "### Submitted by Sara Sameer, 19k-1255\n",
    "#### Assignment 02: Vector Space Model\n",
    "##### Abstract:This is an implementation of vector space model using tf-idf weighing scheme. The output shows retrieved results in ranked order based on their cosine similarility. \n",
    "    "
   ]
  },
  {
   "cell_type": "code",
   "execution_count": 21,
   "id": "418e03cc",
   "metadata": {},
   "outputs": [],
   "source": [
    "import re\n",
    "from nltk.stem import PorterStemmer\n",
    "import string\n",
    "import numpy as np"
   ]
  },
  {
   "cell_type": "markdown",
   "id": "ed94cb1d",
   "metadata": {},
   "source": [
    "### Data Cleaning"
   ]
  },
  {
   "cell_type": "code",
   "execution_count": 22,
   "id": "e430027c",
   "metadata": {},
   "outputs": [],
   "source": [
    "sw= []\n",
    "with open (\"Stopword-List.txt\",\"r\") as file:\n",
    "    for line in file:\n",
    "        sw+=line.split()\n",
    "            \n",
    "def stopwords_removal(line):\n",
    "    line_without_sw = [word for word in line.split() if not word in sw]\n",
    "    return line_without_sw\n",
    "  "
   ]
  },
  {
   "cell_type": "code",
   "execution_count": 23,
   "id": "55a5de9f",
   "metadata": {},
   "outputs": [],
   "source": [
    "def cleaning(term):\n",
    "        ps = PorterStemmer()\n",
    "        term = term.lower()  #Normalize text\n",
    "        term = re.sub(r\"(@\\[A-Za-z0-9]+)|([^0-9A-Za-z \\t])|(\\w+:\\/\\/\\S+)|^rt|http.+?\", \"\", term) #Remove Unicode\n",
    "        term = re.sub(r'[^\\w\\s]','',term)\n",
    "        term = re.sub(r'[0-9]', '', term)\n",
    "        term = ps.stem(term)  #Stemming\n",
    "        return term"
   ]
  },
  {
   "cell_type": "markdown",
   "id": "ef7bca09",
   "metadata": {},
   "source": [
    "### Inverted Index"
   ]
  },
  {
   "cell_type": "code",
   "execution_count": 24,
   "id": "b5f29d44",
   "metadata": {},
   "outputs": [],
   "source": [
    "tokens_dict = dict()\n",
    "\n",
    "for i in range(1,449):\n",
    "    doc_no = i\n",
    "    list_of_words = []\n",
    "    with open (\"Abstracts/\" + str(doc_no) + \".txt\",\"r\") as file:\n",
    "        # Removing punctations manually because some conventions are modified.\n",
    "        file = file.read().replace(\".\",\"\").replace(\"n't\",\" not\").replace(\"'\",\"\").replace(\"]\",\" \").replace(\"[\",\"\").replace(\",\",\" \").replace(\"?\",\"\").replace(\"\\n\",\" \").replace(\"-\",\" \").replace('/',\" \").split()\n",
    "        for line in file: \n",
    "            line = stopwords_removal(line)\n",
    "            for word in line:\n",
    "                word = cleaning(word)\n",
    "                if word in tokens_dict:\n",
    "                    tokens_dict[word].add(i)\n",
    "                else:\n",
    "                    tokens_dict[word]= {i}  #To add more docs\n",
    "                "
   ]
  },
  {
   "cell_type": "markdown",
   "id": "93a81794",
   "metadata": {},
   "source": [
    "### Inverse Document Frequency (IDF)"
   ]
  },
  {
   "cell_type": "code",
   "execution_count": 25,
   "id": "3dd1fc1b",
   "metadata": {},
   "outputs": [],
   "source": [
    "# idf_dict = dict()\n",
    "# idf_dict\n",
    "#IDF is universal value\n",
    "def IDF(word):\n",
    "    len_docs = 448 # Number of documents\n",
    "    for k,v in tokens_dict.items():\n",
    "        if word == k:\n",
    "            return 1+ np.log(len_docs / len(v))\n",
    "#             return round(np.log(len_docs / len(v)),5)\n",
    "\n",
    "    "
   ]
  },
  {
   "cell_type": "markdown",
   "id": "b62dcf9e",
   "metadata": {},
   "source": [
    "### Term Frequency (TF)"
   ]
  },
  {
   "cell_type": "code",
   "execution_count": 26,
   "id": "8b80df34",
   "metadata": {},
   "outputs": [],
   "source": [
    "#TF varies from doc to doc\n",
    "#Assuming a cleaned doc\n",
    "def normalized_TF(word,doc, len_doc):\n",
    "    word_count = 0\n",
    "    for term in doc:\n",
    "        if word == term:\n",
    "            word_count +=1  \n",
    "    #print(round((word_count/len_doc),2))\n",
    "    return word_count\n",
    "    #return round((word_count/len_doc),2)\n",
    "            \n",
    "    \n"
   ]
  },
  {
   "cell_type": "markdown",
   "id": "d5fa5a17",
   "metadata": {},
   "source": [
    "### TF-IDF Scoring"
   ]
  },
  {
   "cell_type": "code",
   "execution_count": 27,
   "id": "ae4f08fe",
   "metadata": {},
   "outputs": [],
   "source": [
    "def tf_idf(doc):\n",
    "    vec = list()\n",
    "    for word in doc:\n",
    "        tf = normalized_TF(word,doc,len(doc))\n",
    "        idf = IDF(word)\n",
    "        score = tf*idf\n",
    "        vec.append(score)\n",
    "        \n",
    "    return vec\n",
    "        "
   ]
  },
  {
   "cell_type": "code",
   "execution_count": 28,
   "id": "430a6ad5",
   "metadata": {},
   "outputs": [],
   "source": [
    "cleaned_docs = []\n",
    "\n",
    "def text_cleaning():\n",
    "    for i in range(1,449):\n",
    "        #print(i)\n",
    "        temp_doc = []\n",
    "        with open (\"Abstracts/\" + str(i) + \".txt\",\"r\") as file:\n",
    "        # Removing punctations manually because some conventions are modified.\n",
    "            file = file.read().replace(\".\",\"\").replace(\"n't\",\" not\").replace(\"'\",\"\").replace(\"]\",\" \").replace(\"[\",\"\").replace(\",\",\" \").replace(\"?\",\"\").replace(\"\\n\",\" \").replace(\"-\",\" \").replace('/',\" \").split()\n",
    "            for line in file: \n",
    "                line = stopwords_removal(line)\n",
    "                for word in line:\n",
    "                    word = cleaning(word)\n",
    "                    if word != \"\":\n",
    "                        temp_doc.append(word)\n",
    "        cleaned_docs.append(temp_doc)\n",
    "        \n"
   ]
  },
  {
   "cell_type": "markdown",
   "id": "cc538094",
   "metadata": {},
   "source": [
    "### Document Vectors"
   ]
  },
  {
   "cell_type": "code",
   "execution_count": 29,
   "id": "e9c6d9b8",
   "metadata": {},
   "outputs": [],
   "source": [
    "text_cleaning()\n",
    "# cleaned_docs[448]"
   ]
  },
  {
   "cell_type": "code",
   "execution_count": 34,
   "id": "cd56de1c",
   "metadata": {},
   "outputs": [],
   "source": [
    "doc_vec = []\n",
    "\n",
    "def doc2vector(): \n",
    "    for index,doc in enumerate(cleaned_docs):\n",
    "        vec =tf_idf(doc)\n",
    "        doc_vec.append(vec)\n",
    "doc2vector() \n",
    "\n",
    "# doc_vec[447]"
   ]
  },
  {
   "cell_type": "markdown",
   "id": "be253497",
   "metadata": {},
   "source": [
    "### Cosine Similarity"
   ]
  },
  {
   "cell_type": "code",
   "execution_count": 31,
   "id": "86845846",
   "metadata": {},
   "outputs": [],
   "source": [
    "#This function will make doc_vector that have tf_idf calculated for each term of every document\n",
    "def cosine_similarity(query_score, doc_score):\n",
    "#     print(np.dot(query_score,doc_score))\n",
    "    dot_prod = np.dot(query_score,doc_score)\n",
    "    query_vec_len = np.square(query_score).sum()\n",
    "    doc_vec_len = np.square(doc_score).sum()\n",
    "#     print(query_vec_len)\n",
    "#     print(doc_vec_len)\n",
    "    \n",
    "    cosine_sim = dot_prod / (query_vec_len * doc_vec_len)\n",
    "#     print(cosine_sim)\n",
    "    return cosine_sim\n",
    "    \n",
    "    \n",
    "        \n",
    "        \n",
    "            \n",
    "            \n",
    "            \n",
    "        \n",
    "        \n",
    "        \n",
    "    "
   ]
  },
  {
   "cell_type": "markdown",
   "id": "c063c7a7",
   "metadata": {},
   "source": [
    "### Query Processing"
   ]
  },
  {
   "cell_type": "code",
   "execution_count": 32,
   "id": "29022eee",
   "metadata": {},
   "outputs": [],
   "source": [
    "def main():\n",
    "    query = input()\n",
    "    query = stopwords_removal(query)\n",
    "    query_list = []\n",
    "    tf_idf_query_score = []\n",
    "    cos_sim = []\n",
    "    \n",
    "    for terms in query:\n",
    "        terms = cleaning(terms)\n",
    "        query_list.append(terms)   \n",
    "    tf_idf_query_score = tf_idf(query_list)\n",
    "    \n",
    "\n",
    "    docs_intersect_set = set()\n",
    "    for index, terms in enumerate(query_list):\n",
    "        for k, v in tokens_dict.items():\n",
    "            if terms == k:\n",
    "                for docs in v:\n",
    "                    docs_intersect_set.add(docs)  \n",
    "    \n",
    "    docs_intersect_set = sorted(docs_intersect_set)\n",
    "    for items in docs_intersect_set:\n",
    "        docs_score = list()\n",
    "        for terms in query_list:\n",
    "#             print(terms)\n",
    "#             print(items)\n",
    "            try:\n",
    "                index_ = cleaned_docs[items-1].index(terms)\n",
    "                docs_score.append(doc_vec[items-1][index_])\n",
    "                \n",
    "            except ValueError:\n",
    "                docs_score.append(0)   #For terms that are present in query, but not in document\n",
    "                \n",
    "        cos_sim.append(cosine_similarity(tf_idf_query_score, docs_score))\n",
    "        cos_sim = sorted(cos_sim, reverse = True)\n",
    "        \n",
    "    \n",
    "    total_doc = 0\n",
    "    for index, value in enumerate(cos_sim):\n",
    "            if value >= 0.001:  # Aplha value is 0.001\n",
    "                print (f'Doc No: {docs_intersect_set[index]} is retrieved with cosine similarity value of : {value}')\n",
    "#                 print()\n",
    "                total_doc = total_doc +1\n",
    "    \n",
    "    print(f'Total documents retrieved: {total_doc}')\n",
    "#     print(str(vec))\n",
    "\n",
    "# Check Markov term in 110 with brackets markov(k) do cleaning\n",
    "\n",
    "        "
   ]
  },
  {
   "cell_type": "code",
   "execution_count": 33,
   "id": "a5e9e932",
   "metadata": {},
   "outputs": [
    {
     "name": "stdout",
     "output_type": "stream",
     "text": [
      "weak heuristic\n",
      "Doc No: 1 is retrieved with cosine similarity value of : 0.019497156334481312\n",
      "Doc No: 35 is retrieved with cosine similarity value of : 0.019497156334481312\n",
      "Doc No: 93 is retrieved with cosine similarity value of : 0.019497156334481312\n",
      "Doc No: 101 is retrieved with cosine similarity value of : 0.019497156334481312\n",
      "Doc No: 136 is retrieved with cosine similarity value of : 0.019497156334481312\n",
      "Doc No: 172 is retrieved with cosine similarity value of : 0.019497156334481312\n",
      "Doc No: 174 is retrieved with cosine similarity value of : 0.019497156334481312\n",
      "Doc No: 213 is retrieved with cosine similarity value of : 0.019497156334481312\n",
      "Doc No: 257 is retrieved with cosine similarity value of : 0.019497156334481312\n",
      "Doc No: 299 is retrieved with cosine similarity value of : 0.019497156334481312\n",
      "Doc No: 306 is retrieved with cosine similarity value of : 0.019497156334481312\n",
      "Doc No: 361 is retrieved with cosine similarity value of : 0.019497156334481312\n",
      "Doc No: 413 is retrieved with cosine similarity value of : 0.009748578167240656\n",
      "Doc No: 429 is retrieved with cosine similarity value of : 0.008055231861727947\n",
      "Doc No: 435 is retrieved with cosine similarity value of : 0.00649905211149377\n",
      "Total documents retrieved: 15\n"
     ]
    }
   ],
   "source": [
    "main()"
   ]
  },
  {
   "cell_type": "code",
   "execution_count": 4,
   "id": "9389654b",
   "metadata": {},
   "outputs": [
    {
     "data": {
      "text/plain": [
       "[221, 235, 544]"
      ]
     },
     "execution_count": 4,
     "metadata": {},
     "output_type": "execute_result"
    }
   ],
   "source": [
    "dict_ = {'one': 221, 'two': 235, 'three': 544}\n",
    "data = list(dict_.keys())\n",
    "numbers = list(dict_.values())\n",
    "numbers"
   ]
  },
  {
   "cell_type": "code",
   "execution_count": null,
   "id": "159a80c6",
   "metadata": {},
   "outputs": [],
   "source": []
  }
 ],
 "metadata": {
  "kernelspec": {
   "display_name": "Python 3 (ipykernel)",
   "language": "python",
   "name": "python3"
  },
  "language_info": {
   "codemirror_mode": {
    "name": "ipython",
    "version": 3
   },
   "file_extension": ".py",
   "mimetype": "text/x-python",
   "name": "python",
   "nbconvert_exporter": "python",
   "pygments_lexer": "ipython3",
   "version": "3.10.1"
  }
 },
 "nbformat": 4,
 "nbformat_minor": 5
}
